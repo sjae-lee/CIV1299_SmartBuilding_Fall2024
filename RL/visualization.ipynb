{
 "cells": [
  {
   "cell_type": "code",
   "execution_count": 2,
   "metadata": {},
   "outputs": [],
   "source": [
    "import numpy as np\n",
    "import pickle\n",
    "import matplotlib.pyplot as plt\n",
    "import os    \n",
    "os.environ['KMP_DUPLICATE_LIB_OK'] = 'True'\n",
    "\n",
    "import gymnasium as gym\n",
    "from stable_baselines3 import PPO\n",
    "import environment "
   ]
  },
  {
   "cell_type": "code",
   "execution_count": 3,
   "metadata": {},
   "outputs": [],
   "source": [
    "# Electricity rates\n",
    "def func_price(i):\n",
    "    # $/kWh\n",
    "    hour = (i//6)%24\n",
    "    if hour<7:\n",
    "        return 0.082\n",
    "    elif (hour>=7)&(hour<11):\n",
    "        return 0.113\n",
    "    elif (hour>=11)&(hour<17):\n",
    "        return 0.17\n",
    "    elif (hour>=17)&(hour<19):\n",
    "        return 0.113\n",
    "    else:\n",
    "        return 0.082\n",
    "\n",
    "# HVAC COP\n",
    "def func_COP(To):\n",
    "    return -2/25 * To + 6"
   ]
  },
  {
   "cell_type": "code",
   "execution_count": 4,
   "metadata": {},
   "outputs": [],
   "source": [
    "# import data\n",
    "with open('HW2_Data.pickle', 'rb') as f:\n",
    "    Data = pickle.load(f)\n",
    "To = Data['To'][:6*24*2] # outdoor air temperature in degC\n",
    "q_solar = Data['q_solar'][:6*24*2] # absorbed solar radiation in W\n",
    "u_dist = np.hstack((q_solar[:,None], To[:,None]))\n",
    "\n",
    "# get price and COP\n",
    "Price = np.array([func_price(i) for i in range(q_solar.shape[0])])\n",
    "Price = np.hstack((Price,Price))\n",
    "COP = np.array([func_COP(i) for i in To])\n",
    "COP = np.hstack((COP,COP))\n",
    "\n",
    "# import building model\n",
    "with open('HW2_SS-Model.pickle', 'rb') as f:\n",
    "    ss_model = pickle.load(f)\n",
    "Ad = ss_model['Ad']\n",
    "Bd = ss_model['Bd']\n",
    "Cd = ss_model['Cd']\n",
    "Dd = ss_model['Dd']\n",
    "\n",
    "Bd_HVAC = Bd[:,:1]\n",
    "Bd_dist = Bd[:,1:]\n",
    "Dd_HVAC = Dd[:1]\n",
    "Dd_dist = Dd[1:]"
   ]
  },
  {
   "cell_type": "code",
   "execution_count": 5,
   "metadata": {},
   "outputs": [
    {
     "name": "stdout",
     "output_type": "stream",
     "text": [
      "Using cpu device\n",
      "Wrapping the env with a `Monitor` wrapper\n",
      "Wrapping the env in a DummyVecEnv.\n"
     ]
    },
    {
     "data": {
      "text/plain": [
       "<stable_baselines3.ppo.ppo.PPO at 0x259b4c109e0>"
      ]
     },
     "execution_count": 5,
     "metadata": {},
     "output_type": "execute_result"
    }
   ],
   "source": [
    "# create an environment using the building model\n",
    "Environment = environment.SimpleEnv(Ad, Bd_HVAC, Bd_dist,\n",
    "                                    Cd, Dd_HVAC, Dd_dist,\n",
    "                                    COP, Price, u_dist)\n",
    "model = PPO(\"MultiInputPolicy\", Environment, verbose=1, learning_rate=0.00001, gamma=0.999)\n",
    "model.load(\"trained_RL\")"
   ]
  },
  {
   "cell_type": "code",
   "execution_count": 6,
   "metadata": {},
   "outputs": [],
   "source": [
    "vec_env = model.get_env()\n",
    "obs_history=[]\n",
    "act_history=[]\n",
    "obs = vec_env.reset()\n",
    "obs_history.append(obs)\n",
    "for i in range(288):\n",
    "    action, _state = model.predict(obs, deterministic=True)\n",
    "    obs, reward, done, info = vec_env.step(action)\n",
    "    obs_history.append(obs)\n",
    "    act_history.append(action)"
   ]
  },
  {
   "cell_type": "code",
   "execution_count": 7,
   "metadata": {},
   "outputs": [],
   "source": [
    "temperature = []\n",
    "for i in range(len(obs_history)):\n",
    "    temperature.append(obs_history[i]['Tin'])\n",
    "temperature = np.array(temperature).flatten()\n",
    "\n",
    "action = np.array(act_history).flatten()\n",
    "\n",
    "# penalty=[]\n",
    "# for temp in temperature:\n",
    "#     if temp > 24.:\n",
    "#         penalty.append(temp - 24.)\n",
    "#     else:\n",
    "#         penalty.append(-0.05)\n",
    "# penalty = np.array(penalty)\n",
    "\n",
    "# cost = (action/COP/6 * Price + 0.000798)*1000\n",
    "# reward = cost - 10*penalty[1:]"
   ]
  },
  {
   "cell_type": "code",
   "execution_count": 8,
   "metadata": {},
   "outputs": [
    {
     "data": {
      "text/plain": [
       "(19.0, 31.0)"
      ]
     },
     "execution_count": 8,
     "metadata": {},
     "output_type": "execute_result"
    },
    {
     "data": {
      "image/png": "[encoded data removed]",
      "text/plain": [
       "<Figure size 640x480 with 1 Axes>"
      ]
     },
     "metadata": {},
     "output_type": "display_data"
    }
   ],
   "source": [
    "plt.plot(temperature)\n",
    "plt.ylim(19,31)"
   ]
  },
  {
   "cell_type": "code",
   "execution_count": null,
   "metadata": {},
   "outputs": [],
   "source": []
  }
 ],
 "metadata": {
  "kernelspec": {
   "display_name": "base",
   "language": "python",
   "name": "python3"
  },
  "language_info": {
   "codemirror_mode": {
    "name": "ipython",
    "version": 3
   },
   "file_extension": ".py",
   "mimetype": "text/x-python",
   "name": "python",
   "nbconvert_exporter": "python",
   "pygments_lexer": "ipython3",
   "version": "3.12.7"
  }
 },
 "nbformat": 4,
 "nbformat_minor": 2
}

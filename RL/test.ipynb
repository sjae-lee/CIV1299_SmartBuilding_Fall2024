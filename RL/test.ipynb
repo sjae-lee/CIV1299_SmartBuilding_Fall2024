{
 "cells": [
  {
   "cell_type": "code",
   "execution_count": null,
   "metadata": {},
   "outputs": [],
   "source": [
    "import numpy as np\n",
    "import gymnasium as gym\n",
    "from stable_baselines3 import PPO\n",
    "import pickle\n",
    "import matplotlib.pyplot as plt\n",
    "\n",
    "import environment"
   ]
  },
  {
   "cell_type": "code",
   "execution_count": null,
   "metadata": {},
   "outputs": [],
   "source": [
    "# Electricity rates\n",
    "def func_price(i):\n",
    "    # $/kWh\n",
    "    hour = (i//6)%24\n",
    "    if hour<7:\n",
    "        return 0.082\n",
    "    elif (hour>=7)&(hour<11):\n",
    "        return 0.113\n",
    "    elif (hour>=11)&(hour<17):\n",
    "        return 0.17\n",
    "    elif (hour>=17)&(hour<19):\n",
    "        return 0.113\n",
    "    else:\n",
    "        return 0.082\n",
    "\n",
    "# HVAC COP\n",
    "def func_COP(To):\n",
    "    return -2/25 * To + 6"
   ]
  },
  {
   "cell_type": "code",
   "execution_count": null,
   "metadata": {},
   "outputs": [],
   "source": [
    "with open('HW2_Data.pickle', 'rb') as f:\n",
    "    Data = pickle.load(f)\n",
    "To = Data['To'][:6*24*2] # outdoor air temperature in degC\n",
    "q_solar = Data['q_solar'][:6*24*2] # absorbed solar radiation in W\n",
    "\n",
    "with open('HW2_SS-Model.pickle', 'rb') as f:\n",
    "    ss_model = pickle.load(f)\n",
    "Ad = ss_model['Ad']\n",
    "Bd = ss_model['Bd']\n",
    "Cd = ss_model['Cd']\n",
    "Dd = ss_model['Dd']\n",
    "\n",
    "Bd_HVAC = Bd[:,:1]\n",
    "Bd_dist = Bd[:,1:]\n",
    "Dd_HVAC = Dd[:1]\n",
    "Dd_dist = Dd[1:]"
   ]
  },
  {
   "cell_type": "code",
   "execution_count": null,
   "metadata": {},
   "outputs": [],
   "source": [
    "u_dist = np.hstack((q_solar[:,None], To[:,None]))\n",
    "Price = np.array([func_price(i) for i in range(q_solar.shape[0])])\n",
    "COP = np.array([func_COP(i) for i in To])\n",
    "\n",
    "Environment = environment.SimpleEnv(Ad, Bd_HVAC, Bd_dist,\n",
    "                        Cd, Dd_HVAC, Dd_dist,\n",
    "                        COP, Price, u_dist)"
   ]
  },
  {
   "cell_type": "code",
   "execution_count": null,
   "metadata": {},
   "outputs": [
    {
     "name": "stdout",
     "output_type": "stream",
     "text": [
      "-----------------------------------------\n",
      "| rollout/                |             |\n",
      "|    ep_len_mean          | 288         |\n",
      "|    ep_rew_mean          | -107        |\n",
      "| time/                   |             |\n",
      "|    fps                  | 939         |\n",
      "|    iterations           | 42          |\n",
      "|    time_elapsed         | 91          |\n",
      "|    total_timesteps      | 86016       |\n",
      "| train/                  |             |\n",
      "|    approx_kl            | 0.005497765 |\n",
      "|    clip_fraction        | 0.0629      |\n",
      "|    clip_range           | 0.2         |\n",
      "|    entropy_loss         | -1.27       |\n",
      "|    explained_variance   | 0.402       |\n",
      "|    learning_rate        | 0.0001      |\n",
      "|    loss                 | 37.3        |\n",
      "|    n_updates            | 410         |\n",
      "|    policy_gradient_loss | -0.0054     |\n",
      "|    std                  | 0.856       |\n",
      "|    value_loss           | 83.9        |\n",
      "-----------------------------------------\n"
     ]
    }
   ],
   "source": [
    "model = PPO(\"MultiInputPolicy\", Environment, verbose=1, learning_rate=0.0001, gamma=0.999)#, n_steps=288)\n",
    "model.learn(total_timesteps=10_000_000)"
   ]
  },
  {
   "cell_type": "code",
   "execution_count": null,
   "metadata": {},
   "outputs": [],
   "source": [
    "vec_env = model.get_env()\n",
    "obs_history=[]\n",
    "act_history=[]\n",
    "obs = vec_env.reset()\n",
    "obs_history.append(obs)\n",
    "for i in range(288):\n",
    "    action, _state = model.predict(obs, deterministic=True)\n",
    "    obs, reward, done, info = vec_env.step(action)\n",
    "    obs_history.append(obs)\n",
    "    act_history.append(action)"
   ]
  },
  {
   "cell_type": "code",
   "execution_count": null,
   "metadata": {},
   "outputs": [],
   "source": [
    "result = {'obs_history':obs_history,\n",
    "          'act_history':act_history}\n",
    "with open('tmp.pickle', 'wb') as f:\n",
    "    pickle.dump(result, f)"
   ]
  },
  {
   "cell_type": "code",
   "execution_count": null,
   "metadata": {},
   "outputs": [],
   "source": [
    "reward"
   ]
  },
  {
   "cell_type": "code",
   "execution_count": null,
   "metadata": {},
   "outputs": [],
   "source": []
  }
 ],
 "metadata": {
  "kernelspec": {
   "display_name": "base",
   "language": "python",
   "name": "python3"
  },
  "language_info": {
   "codemirror_mode": {
    "name": "ipython",
    "version": 3
   },
   "file_extension": ".py",
   "mimetype": "text/x-python",
   "name": "python",
   "nbconvert_exporter": "python",
   "pygments_lexer": "ipython3",
   "version": "3.12.7"
  }
 },
 "nbformat": 4,
 "nbformat_minor": 2
}

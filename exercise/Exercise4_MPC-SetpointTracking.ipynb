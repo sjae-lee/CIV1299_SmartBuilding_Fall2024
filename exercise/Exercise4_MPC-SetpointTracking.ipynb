{
 "cells": [
  {
   "cell_type": "markdown",
   "id": "45f37fdc",
   "metadata": {},
   "source": [
    "### Load Libraries & Packages"
   ]
  },
  {
   "cell_type": "code",
   "execution_count": null,
   "id": "0f981549",
   "metadata": {},
   "outputs": [],
   "source": [
    "import numpy as np\n",
    "from scipy.integrate import odeint\n",
    "from scipy.optimize import minimize\n",
    "import pickle\n",
    "import matplotlib.pyplot as plt\n",
    "import time"
   ]
  },
  {
   "cell_type": "markdown",
   "id": "69c78596",
   "metadata": {},
   "source": [
    "### Import Data and State-Space Model\n",
    "Let's import data and a state-space model with estimated A, B, C, and D matrices."
   ]
  },
  {
   "cell_type": "code",
   "execution_count": null,
   "id": "258ffaf0",
   "metadata": {},
   "outputs": [],
   "source": [
    "with open('HW1_Data.pickle', 'rb') as f:\n",
    "    Data = pickle.load(f)\n",
    "To = Data['To'] # outdoor air temperature in degC\n",
    "q_solar = Data['q_solar'] # absorbed solar radiation in W\n",
    "\n",
    "with open('Exercise4_SS-Model.pickle', 'rb') as f:\n",
    "    ss_model = pickle.load(f)\n",
    "Ad = ss_model['Ad']\n",
    "Bd = ss_model['Bd']\n",
    "Cd = ss_model['Cd']\n",
    "Dd = ss_model['Dd']\n",
    "\n",
    "Bd_HVAC = Bd[:,:1]\n",
    "Bd_dist = Bd[:,1:]\n",
    "Dd_HVAC = Dd[:1]\n",
    "Dd_dist = Dd[1:]"
   ]
  },
  {
   "cell_type": "markdown",
   "id": "f74bef38",
   "metadata": {},
   "source": [
    "We use the same room model and outdoor temperature and solar radiation data.</br>\n",
    "Our objective is optimize the HVAC output to satisfy the room setpoint temperature 22$^\\circ$C. This example is just for educational purpose. In real buildings, we don't need an optimal controller for this task because a well-tuned PID controller will work well."
   ]
  },
  {
   "cell_type": "code",
   "execution_count": null,
   "id": "126b65f3",
   "metadata": {},
   "outputs": [],
   "source": [
    "setpoint = 22 # room setpoint temperature\n",
    "\n",
    "Nd = To.shape[0] # number of timesteps\n",
    "t_span = np.arange(0,Nd+1)\n",
    "fig, ax = plt.subplots(1,2,figsize=(15,5))\n",
    "ax[0].hlines(setpoint, 0, Nd, label='Setpoint', colors='C1', linestyle='--')\n",
    "ax[0].plot(To, label='T_outdoor')\n",
    "ax[0].set_xticks(t_span[::6*24],t_span[::6*24]*10/60)\n",
    "ax[0].set_ylabel('Temperature [$\\degree$C]')\n",
    "ax[0].set_xlabel('Time [hour]')\n",
    "ax[0].legend()\n",
    "\n",
    "ax[1].plot(q_solar, label='q_solar', color='C1')\n",
    "ax[1].set_xticks(t_span[::6*24],t_span[::6*24]*10/60)\n",
    "ax[1].set_ylabel('Energy Rate [W]')\n",
    "ax[1].set_xlabel('Time [hour]')\n",
    "ax[1].legend()\n",
    "\n",
    "plt.show()"
   ]
  },
  {
   "cell_type": "markdown",
   "id": "8bcda10c",
   "metadata": {},
   "source": [
    "### Define functions"
   ]
  },
  {
   "cell_type": "code",
   "execution_count": null,
   "id": "3dd70adb",
   "metadata": {},
   "outputs": [],
   "source": [
    "def compute_x(x0, u0_HVAC, u0_dist, \n",
    "              Ad, Bd_HVAC, Bd_dist):\n",
    "    return np.dot(Ad,x0) + np.dot(Bd_HVAC,u0_HVAC) + np.dot(Bd_dist,u0_dist) # compute x[k+1] given x[k] and u[x]\n",
    "\n",
    "def compute_y(x0, u0_HVAC, u0_dist, \n",
    "              Cd, Dd_HVAC, Dd_dist):\n",
    "    return np.dot(Cd,x0) + np.dot(Dd_HVAC,u0_HVAC) + np.dot(Dd_dist,u0_dist) # compute y[k] given x[k] and u[x]\n",
    "\n",
    "\n",
    "\n",
    "\n",
    "def MPC_simulation(x0,\n",
    "                   Ad, Bd_HVAC, Bd_dist,\n",
    "                   Cd, Dd_HVAC, Dd_dist,\n",
    "                   u_dist,\n",
    "                   setpoint,\n",
    "                   pred_horizon):\n",
    "    N = u_dist.shape[0]\n",
    "    x = np.zeros((N+1,2))\n",
    "    y = np.zeros((N,1))\n",
    "    u_HVAC = np.zeros((N,1))\n",
    "    x[0,0] = x0[0] # initial Ti\n",
    "    x[0,1] = x0[1] # initial Tw\n",
    "    \n",
    "    # simulation\n",
    "    for i in range(N):\n",
    "        t = time.time()\n",
    "        u_HVAC[i,:] = optimization(x0=x[i,:], # MPC optimization\n",
    "                                   u_dist=u_dist[i:i+pred_horizon,:],\n",
    "                                   setpoint=setpoint[i:i+pred_horizon,:])\n",
    "        t_elapsed = time.time() - t\n",
    "        x[i+1,:] = compute_x(x[i:i+1,:].T,\n",
    "                             u_HVAC[i:i+1,:].T,\n",
    "                             u_dist[i:i+1,:].T,\n",
    "                             Ad, Bd_HVAC, Bd_dist).flatten()\n",
    "        y[i,:] = compute_y(x[i:i+1,:].T,\n",
    "                           u_HVAC[i:i+1,:].T,\n",
    "                           u_dist[i:i+1,:].T,\n",
    "                           Cd, Dd_HVAC, Dd_dist).flatten()\n",
    "        if i%50==0:\n",
    "            print('i == %d'%i)\n",
    "    return x, y, u_HVAC\n",
    "\n",
    "def optimization(x0, u_dist, setpoint):\n",
    "    N = u_dist.shape[0] # number of timesteps\n",
    "    \n",
    "    init = np.ones(N) # initial value for the optimization below\n",
    "    ans = minimize(objective, # using a \n",
    "                   init,\n",
    "                   bounds=([[0,2]]*N),\n",
    "                   args=(x0, N, u_dist, setpoint)\n",
    "                   )\n",
    "    return ans.x[0]*1000\n",
    "\n",
    "def objective(u_HVAC, x0, N, u_dist, setpoint):\n",
    "    u_HVAC = u_HVAC[:,None]*1000\n",
    "    x = np.zeros((N+1,2))\n",
    "    y = np.zeros((N,1))\n",
    "    x[0,0] = x0[0] # initial Ti\n",
    "    x[0,1] = x0[1] # initial Tw\n",
    "    \n",
    "    for i in range(N):\n",
    "        x[i+1,:] = compute_x(x[i:i+1,:].T,\n",
    "                             u_HVAC[i:i+1,:].T,\n",
    "                             u_dist[i:i+1,:].T,\n",
    "                             Ad, Bd_HVAC, Bd_dist).flatten()\n",
    "        y[i,:] = compute_y(x[i:i+1,:].T,\n",
    "                           u_HVAC[i:i+1,:].T,\n",
    "                           u_dist[i:i+1,:].T,\n",
    "                           Cd, Dd_HVAC, Dd_dist).flatten()\n",
    "    cost = ############################ objective function ############################\n",
    "    return cost"
   ]
  },
  {
   "cell_type": "markdown",
   "id": "ed05ee2f",
   "metadata": {},
   "source": [
    "### Optimization"
   ]
  },
  {
   "cell_type": "code",
   "execution_count": null,
   "id": "04465d15",
   "metadata": {
    "scrolled": true
   },
   "outputs": [],
   "source": [
    "x0 = [20,15]\n",
    "u_dist = np.hstack((q_solar[:,None], To[:,None]))\n",
    "setpoint_vector = np.ones((q_solar.shape[0],1))*setpoint\n",
    "pred_horizon = 6 * 2\n",
    "\n",
    "x, y, u_HVAC = MPC_simulation(x0,\n",
    "                              Ad, Bd_HVAC, Bd_dist,\n",
    "                              Cd, Dd_HVAC, Dd_dist,\n",
    "                              u_dist,\n",
    "                              setpoint_vector,\n",
    "                              pred_horizon)"
   ]
  },
  {
   "cell_type": "code",
   "execution_count": null,
   "id": "56d1a3d0",
   "metadata": {},
   "outputs": [],
   "source": [
    "Ti_simulation = x[:,0] # Indoor temperature \n",
    "Tw_simulation = x[:,1]\n",
    "\n",
    "# plotting\n",
    "fig, ax = plt.subplots(1,2,figsize=(15,5))\n",
    "ax[0].plot(Ti_simulation, label='Ti_simulation', color='C0')\n",
    "ax[0].hlines(setpoint, 0, Nd, label='Setpoint', colors='C1', linestyle='--')\n",
    "ax[0].plot(Tw_simulation, label='Tw_simulation', color='C2')\n",
    "ax[0].plot(To, label='To', color='C3')\n",
    "ax[0].set_xticks(t_span[::6*24],t_span[::6*24]*10/60)\n",
    "ax[0].set_ylabel('Temperature [$\\degree$C]')\n",
    "ax[0].set_xlabel('Time [hour]')\n",
    "ax[0].legend()\n",
    "\n",
    "ax[1].plot(u_HVAC, label='q_HVAC_optimal')\n",
    "ax[1].plot(q_solar, label='q_solar')\n",
    "ax[1].set_xticks(t_span[::6*24],t_span[::6*24]*10/60)\n",
    "ax[1].set_ylabel('Energy Rate [W]')\n",
    "ax[1].set_xlabel('Time [hour]')\n",
    "ax[1].legend()\n",
    "\n",
    "plt.show()"
   ]
  }
 ],
 "metadata": {
  "kernelspec": {
   "display_name": "Python 3 (ipykernel)",
   "language": "python",
   "name": "python3"
  },
  "language_info": {
   "codemirror_mode": {
    "name": "ipython",
    "version": 3
   },
   "file_extension": ".py",
   "mimetype": "text/x-python",
   "name": "python",
   "nbconvert_exporter": "python",
   "pygments_lexer": "ipython3",
   "version": "3.10.9"
  }
 },
 "nbformat": 4,
 "nbformat_minor": 5
}

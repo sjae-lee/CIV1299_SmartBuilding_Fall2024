{
 "cells": [
  {
   "cell_type": "markdown",
   "id": "a5b8ce10",
   "metadata": {},
   "source": [
    "# ARX Modelling"
   ]
  },
  {
   "cell_type": "markdown",
   "id": "45f37fdc",
   "metadata": {},
   "source": [
    "### Load Libraries & Packages"
   ]
  },
  {
   "cell_type": "code",
   "execution_count": null,
   "id": "0f981549",
   "metadata": {},
   "outputs": [],
   "source": [
    "import numpy as np\n",
    "from scipy.integrate import odeint\n",
    "from scipy.optimize import minimize\n",
    "from scipy.signal import cont2discrete\n",
    "import pickle\n",
    "import matplotlib.pyplot as plt\n",
    "try:\n",
    "    import pygad\n",
    "except:\n",
    "    %pip install pygad\n",
    "    import pygad\n",
    "\n",
    "try:\n",
    "    from gekko import GEKKO\n",
    "except:\n",
    "    %pip install gekko\n",
    "    from gekko import GEKKO"
   ]
  },
  {
   "cell_type": "markdown",
   "id": "69c78596",
   "metadata": {},
   "source": [
    "### Import and visualize Data"
   ]
  },
  {
   "cell_type": "code",
   "execution_count": null,
   "id": "258ffaf0",
   "metadata": {},
   "outputs": [],
   "source": [
    "with open('HW1_Data.pickle', 'rb') as f:\n",
    "    Data = pickle.load(f)\n",
    "Ti = Data['Ti'] # indoor air temperature in degC\n",
    "To = Data['To'] # outdoor air temperature in degC\n",
    "q_HVAC = Data['q_HVAC'] # HVAC heating rate in W\n",
    "q_solar = Data['q_solar'] # absorbed solar radiation in W\n",
    "N = To.shape[0] # number of timesteps\n",
    "\n",
    "t_span = np.arange(0,N+1)\n",
    "fig, ax = plt.subplots(1,2,figsize=(15,5))\n",
    "ax[0].plot(Ti, label='T_indoor')\n",
    "ax[0].plot(To, label='T_outdoor')\n",
    "ax[0].set_xticks(t_span[::6*24],t_span[::6*24]*10/60)\n",
    "ax[0].set_ylabel('Temperature [$\\degree$C]')\n",
    "ax[0].set_xlabel('Time [hour]')\n",
    "ax[0].legend()\n",
    "\n",
    "ax[1].plot(q_HVAC, label='q_HVAC')\n",
    "ax[1].plot(q_solar, label='q_solar')\n",
    "ax[1].set_xticks(t_span[::6*24],t_span[::6*24]*10/60)\n",
    "ax[1].set_ylabel('Energy Rate [W]')\n",
    "ax[1].set_xlabel('Time [hour]')\n",
    "ax[1].legend()\n",
    "\n",
    "plt.show()"
   ]
  },
  {
   "cell_type": "code",
   "execution_count": null,
   "id": "b96c65aa",
   "metadata": {},
   "outputs": [],
   "source": [
    "m = GEKKO()\n",
    "\n",
    "y = Ti[:,None][:-1,:]\n",
    "u = np.concatenate((q_HVAC[:,None],q_solar[:,None]),axis=1)\n",
    "t = np.arange(0,N)[:,None]\n",
    "\n",
    "na = 3 # Number of A coefficients\n",
    "nb = 2 # Number of B coefficients\n",
    "yp,p,K = m.sysid(t,u,y,na,nb,shift='calc',pred='meas')\n",
    "\n",
    "plt.plot(t,y)\n",
    "plt.plot(t,yp,'--')\n",
    "plt.legend([r'$T_{indoor,meas}$',r'$T_{indoor,pred}$'])\n",
    "plt.ylabel('Temperature (°C)')\n",
    "plt.xlabel('Time (sec)')\n",
    "plt.show()"
   ]
  },
  {
   "cell_type": "code",
   "execution_count": null,
   "id": "64509f7f",
   "metadata": {},
   "outputs": [],
   "source": []
  }
 ],
 "metadata": {
  "kernelspec": {
   "display_name": "Python 3 (ipykernel)",
   "language": "python",
   "name": "python3"
  },
  "language_info": {
   "codemirror_mode": {
    "name": "ipython",
    "version": 3
   },
   "file_extension": ".py",
   "mimetype": "text/x-python",
   "name": "python",
   "nbconvert_exporter": "python",
   "pygments_lexer": "ipython3",
   "version": "3.12.4"
  }
 },
 "nbformat": 4,
 "nbformat_minor": 5
}

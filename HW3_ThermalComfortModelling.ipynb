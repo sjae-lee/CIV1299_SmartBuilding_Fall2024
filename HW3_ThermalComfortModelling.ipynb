{
 "cells": [
  {
   "cell_type": "code",
   "execution_count": null,
   "id": "48593969",
   "metadata": {},
   "outputs": [],
   "source": [
    "import numpy as np\n",
    "import pandas as pd\n",
    "import matplotlib.pyplot as plt\n",
    "from ipywidgets import *\n",
    "%matplotlib notebook\n",
    "from sklearn.linear_model import LogisticRegression"
   ]
  },
  {
   "cell_type": "code",
   "execution_count": null,
   "id": "39f4ac74",
   "metadata": {},
   "outputs": [],
   "source": [
    "RP884 = pd.read_csv('db_measurements_v2.1.0.csv') # ASHRAE RP-884 thermal comfort dataset"
   ]
  },
  {
   "cell_type": "code",
   "execution_count": null,
   "id": "eb2fa91b",
   "metadata": {},
   "outputs": [],
   "source": [
    "\"\"\"\n",
    "your inputs: air temperature, radiant temperature, relative humidity,\n",
    "             air velocity, metabolic rate, clothing level\n",
    "your output: thermal sensation\n",
    "\"\"\"\n",
    "Data = RP884[['thermal_sensation','ta', 'tr', 'rh', 'vel', 'met', 'clo']].dropna()\n",
    "\n",
    "y = Data['thermal_sensation'].to_numpy()\n",
    "y[y<-0.5]=-1\n",
    "y[(y>=-0.5)&(y<=0.5)]=0\n",
    "y[y>0.5]=1\n",
    "\n",
    "x = Data[['ta', 'tr', 'rh', 'vel', 'met', 'clo']].to_numpy()"
   ]
  },
  {
   "cell_type": "code",
   "execution_count": null,
   "id": "19c12356",
   "metadata": {},
   "outputs": [],
   "source": [
    "plt.bar(-1,(y==-1).sum(),1,color='b')\n",
    "plt.bar(0,(y==0).sum(),1,color='g')\n",
    "plt.bar(1,(y==1).sum(),1,color='r')\n",
    "plt.title('Thermal Sensation')\n",
    "plt.xticks([-1,0,1], ['cold', 'neutral', 'hot'])\n",
    "plt.show()"
   ]
  },
  {
   "cell_type": "code",
   "execution_count": null,
   "id": "7065065d",
   "metadata": {},
   "outputs": [],
   "source": [
    "fig,ax = plt.subplots(2,3, figsize=(15,8))\n",
    "ax[0,0].hist(x[:,0])\n",
    "ax[0,1].hist(x[:,1])\n",
    "ax[0,2].hist(x[:,2])\n",
    "ax[1,0].hist(x[:,3])\n",
    "ax[1,1].hist(x[:,4])\n",
    "ax[1,2].hist(x[:,5])\n",
    "ax[0,0].title.set_text('Air Temperature')\n",
    "ax[0,1].title.set_text('Radiant Temperature')\n",
    "ax[0,2].title.set_text('Relative Humidity')\n",
    "ax[1,0].title.set_text('Air Velocity')\n",
    "ax[1,1].title.set_text('Metabolic Rate')\n",
    "ax[1,2].title.set_text('Clothing level')"
   ]
  },
  {
   "cell_type": "code",
   "execution_count": null,
   "id": "8fb7ad7a",
   "metadata": {},
   "outputs": [],
   "source": [
    "model=LogisticRegression(solver='lbfgs', max_iter=1000).fit(x,y)"
   ]
  },
  {
   "cell_type": "code",
   "execution_count": null,
   "id": "1bb385bc",
   "metadata": {},
   "outputs": [],
   "source": [
    "ta_plot = np.linspace(10,35,100)\n",
    "\n",
    "def get_predict_proba(rh=50, vel=0.1, met=1.1, clo=0.6):\n",
    "    tr_plot = ta_plot\n",
    "    rh_plot = np.ones_like(ta_plot)*rh\n",
    "    vel_plot = np.ones_like(ta_plot)*vel\n",
    "    met_plot = np.ones_like(ta_plot)*met\n",
    "    clo_plot = np.ones_like(ta_plot)*clo\n",
    "    x_plot = np.vstack((ta_plot,tr_plot,rh_plot,vel_plot,met_plot,clo_plot)).T\n",
    "\n",
    "    return model.predict_proba(x_plot)\n",
    "\n",
    "predict_proba = get_predict_proba(rh=50, vel=0.1, met=1.1, clo=0.6)\n",
    "\n",
    "fig = plt.figure()\n",
    "ax = fig.add_subplot(1, 1, 1)\n",
    "line1, = ax.plot(ta_plot, predict_proba[:,0], color='b')\n",
    "line2, = ax.plot(ta_plot, predict_proba[:,1], color='g')\n",
    "line3, = ax.plot(ta_plot, predict_proba[:,2], color='r')\n",
    "ax.set_ylim(0,1)\n",
    "ax.set_xlabel('Air and Radiant Temperatures')\n",
    "ax.set_ylabel('Probability')\n",
    "\n",
    "def update(rh=50, vel=0.1, met=1.1, clo=0.6):\n",
    "    predict_proba = get_predict_proba(rh, vel, met, clo)\n",
    "\n",
    "    line1.set_ydata(predict_proba[:,0])\n",
    "    line2.set_ydata(predict_proba[:,1])\n",
    "    line3.set_ydata(predict_proba[:,2])\n",
    "    \n",
    "    fig.canvas.draw_idle()\n",
    "\n",
    "interact(update,\n",
    "         rh=(0,100,10),\n",
    "         vel=(0,4,0.1),\n",
    "         met=(0.7,4,0.1),\n",
    "         clo=(0,4,0.1));"
   ]
  }
 ],
 "metadata": {
  "kernelspec": {
   "display_name": "Python 3 (ipykernel)",
   "language": "python",
   "name": "python3"
  },
  "language_info": {
   "codemirror_mode": {
    "name": "ipython",
    "version": 3
   },
   "file_extension": ".py",
   "mimetype": "text/x-python",
   "name": "python",
   "nbconvert_exporter": "python",
   "pygments_lexer": "ipython3",
   "version": "3.10.9"
  }
 },
 "nbformat": 4,
 "nbformat_minor": 5
}

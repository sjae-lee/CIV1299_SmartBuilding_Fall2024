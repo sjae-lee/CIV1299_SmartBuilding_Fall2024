{
 "cells": [
  {
   "cell_type": "markdown",
   "id": "a5b8ce10",
   "metadata": {},
   "source": [
    "# Grey-Box Room Modelling\n",
    "You have a dataset collected from a room, which includes (i) indoor air temperature (Ti) in °C, (ii) outdoor air temperature (To) in °C, (iii) HVAC heating rate (q_HVAC) in W, and (iv) absorbed solar radiation (q_solar) in W. With this dataset, estimate the unknown parameters (Ci, Cw, R1, R2, R3)."
   ]
  },
  {
   "cell_type": "markdown",
   "id": "45f37fdc",
   "metadata": {},
   "source": [
    "### Load Libraries & Packages"
   ]
  },
  {
   "cell_type": "code",
   "execution_count": null,
   "id": "0f981549",
   "metadata": {},
   "outputs": [],
   "source": [
    "import numpy as np\n",
    "from scipy.integrate import odeint\n",
    "from scipy.optimize import minimize\n",
    "from scipy.signal import cont2discrete\n",
    "import pickle\n",
    "import matplotlib.pyplot as plt\n",
    "import pygad"
   ]
  },
  {
   "cell_type": "markdown",
   "id": "69c78596",
   "metadata": {},
   "source": [
    "### Import and visualize Data"
   ]
  },
  {
   "cell_type": "code",
   "execution_count": null,
   "id": "258ffaf0",
   "metadata": {},
   "outputs": [],
   "source": [
    "with open('HW1_Data.pickle', 'rb') as f:\n",
    "    Data = pickle.load(f)\n",
    "Ti = Data['Ti'] # indoor air temperature in degC\n",
    "To = Data['To'] # outdoor air temperature in degC\n",
    "q_HVAC = Data['q_HVAC'] # HVAC heating rate in W\n",
    "q_solar = Data['q_solar'] # absorbed solar radiation in W\n",
    "N = To.shape[0] # number of timesteps\n",
    "\n",
    "t_span = np.arange(0,N+1)\n",
    "fig, ax = plt.subplots(1,2,figsize=(15,5))\n",
    "ax[0].plot(Ti, label='T_indoor')\n",
    "ax[0].plot(To, label='T_outdoor')\n",
    "ax[0].set_xticks(t_span[::6*24],t_span[::6*24]*10/60)\n",
    "ax[0].set_ylabel('Temperature [$\\degree$C]')\n",
    "ax[0].set_xlabel('Time [hour]')\n",
    "ax[0].legend()\n",
    "\n",
    "ax[1].plot(q_HVAC, label='q_HVAC')\n",
    "ax[1].plot(q_solar, label='q_solar')\n",
    "ax[1].set_xticks(t_span[::6*24],t_span[::6*24]*10/60)\n",
    "ax[1].set_ylabel('Energy Rate [W]')\n",
    "ax[1].set_xlabel('Time [hour]')\n",
    "ax[1].legend()\n",
    "\n",
    "plt.show()"
   ]
  },
  {
   "cell_type": "markdown",
   "id": "ed05ee2f",
   "metadata": {},
   "source": [
    "### Define functions for grey-box modelling (system identification)\n",
    "The figure below shows the network you use for the grey-box modelling.<br>\n",
    "In the following cell, you need to **define (i) A and B matrixes and (ii) error metric** for the parameter estimation"
   ]
  },
  {
   "attachments": {
    "image.png": {
     "image/png": "[encoded data removed]"
    }
   },
   "cell_type": "markdown",
   "id": "5be248d5",
   "metadata": {},
   "source": [
    "![image.png](attachment:image.png)"
   ]
  },
  {
   "cell_type": "markdown",
   "id": "44a77f78",
   "metadata": {},
   "source": [
    "The size of your A marix should be $2\\times2$, i.e., $\\mathbf{A}=\\begin{bmatrix}a_{(1,1)},a_{(1,2)}\\\\a_{(2,1)},a_{(2,2)}\\end{bmatrix}$.</br>\n",
    "The size of your B marix should be $2\\times3$, i.e., $\\mathbf{B}=\\begin{bmatrix}b_{(1,1)},b_{(1,2)},b_{(1,3)}\\\\b_{(2,1)},b_{(2,2)},b_{(2,3)}\\end{bmatrix}$.</br>"
   ]
  },
  {
   "cell_type": "code",
   "execution_count": null,
   "id": "ee1324da",
   "metadata": {},
   "outputs": [],
   "source": [
    "def simulation(Ci, Cw, R1, R2, R3):\n",
    "    # continuous time invariant state-space\n",
    "    A = np.array([[a_11, a_12],\n",
    "                  [a_21, a_22]]) ###### <-- replace these four elements properly.\n",
    "    B = np.array([[b_11, b_12, b_13],\n",
    "                  [b_21, b_22, b_23]]) ###### <-- replace these six elements properly.\n",
    "    C = np.eye(2) # assume that C is known\n",
    "    D = np.zeros((2,3)) # assume that D is known\n",
    "      \n",
    "    # discrete state-space\n",
    "    Ad, Bd, Cd, Dd, _ = cont2discrete((A,B,C,D), 10*60) # discretization with 10 minute time interval\n",
    "    \n",
    "    x = np.zeros((2, N+1))\n",
    "    x[0,0] = 20 # initial Ti\n",
    "    x[1,0] = 15 # initial Tw\n",
    "    \n",
    "    # compute states over the simulation period\n",
    "    for i in range(N):\n",
    "        q_HVAC_t = q_HVAC[i]\n",
    "        q_solar_t = q_solar[i]\n",
    "        To_t = To[i]\n",
    "        u_t = np.array([q_HVAC_t, q_solar_t, To_t])[:,None] # input vector\n",
    "        x[:,i+1:i+2] = np.dot(Ad,x[:,i:i+1]) + np.dot(Bd,u_t)\n",
    "    return x\n",
    "\n",
    "def objective(ga_instance, solution, solution_idx):\n",
    "    # scaled for better optimization\n",
    "    Ci = solution[0] * 1000000\n",
    "    Cw = solution[1] * 10000000\n",
    "    R1 = solution[2] * 0.001\n",
    "    R2 = solution[3] * 0.001\n",
    "    R3 = solution[4] * 0.001\n",
    "    \n",
    "    # run simulation\n",
    "    x = simulation(Ci, Cw, R1, R2, R3)\n",
    "    \n",
    "    # error metric\n",
    "    metric = ######################################## add an equation ########################################\n",
    "    return 1/metric"
   ]
  },
  {
   "cell_type": "code",
   "execution_count": null,
   "id": "efa31944",
   "metadata": {
    "scrolled": true
   },
   "outputs": [],
   "source": [
    "# parameter estimation with a genetic algorithm\n",
    "last_fitness = 0\n",
    "def on_generation(ga_instance):\n",
    "    global last_fitness\n",
    "    print(f\"Generation = {ga_instance.generations_completed}\")\n",
    "    print(f\"Fitness    = {ga_instance.best_solution(pop_fitness=ga_instance.last_generation_fitness)[1]}\")\n",
    "    print(f\"Change     = {ga_instance.best_solution(pop_fitness=ga_instance.last_generation_fitness)[1] - last_fitness}\")\n",
    "    last_fitness = ga_instance.best_solution(pop_fitness=ga_instance.last_generation_fitness)[1]\n",
    "\n",
    "ga_instance = pygad.GA(num_generations=500,\n",
    "                       num_parents_mating=10,\n",
    "                       sol_per_pop=50,\n",
    "                       gene_space={'low': 0, 'high': 10},\n",
    "                       num_genes=5,\n",
    "                       fitness_func=objective,\n",
    "                       on_generation=on_generation\n",
    "                      )\n",
    "ga_instance.run()\n",
    "ga_instance.plot_fitness()\n",
    "solution, solution_fitness, solution_idx = ga_instance.best_solution(ga_instance.last_generation_fitness)"
   ]
  },
  {
   "cell_type": "code",
   "execution_count": null,
   "id": "b51091fe",
   "metadata": {},
   "outputs": [],
   "source": [
    "# scale them back\n",
    "Ci = solution[0] * 1000000\n",
    "Cw = solution[1] * 10000000\n",
    "R1 = solution[2] * 0.001\n",
    "R2 = solution[3] * 0.001\n",
    "R3 = solution[4] * 0.001\n",
    "\n",
    "print('Ci:',Ci)\n",
    "print('Cw:',Cw)\n",
    "print('R1:',R1)\n",
    "print('R2:',R2)\n",
    "print('R3:',R3)\n",
    "\n",
    "x = simulation(Ci, Cw, R1, R2, R3)\n",
    "\n",
    "Ti_simulation = x[0,:] # Indoor temperature \n",
    "Tw_simulation = x[1,:]\n",
    "\n",
    "# plotting\n",
    "t_span = np.arange(0,N+1)\n",
    "fig, ax = plt.subplots(1,2,figsize=(15,5))\n",
    "ax[0].plot(Ti, label='Ti_original')\n",
    "ax[0].plot(Ti_simulation, label='Ti_simulation', linestyle='--')\n",
    "ax[0].plot(Tw_simulation, label='Tw_simulation')\n",
    "ax[0].plot(To, label='To')\n",
    "ax[0].set_xticks(t_span[::6*24],t_span[::6*24]*10/60)\n",
    "ax[0].set_ylabel('Temperature [$\\degree$C]')\n",
    "ax[0].set_xlabel('Time [hour]')\n",
    "ax[0].legend()\n",
    "\n",
    "ax[1].plot(q_HVAC, label='q_HVAC')\n",
    "ax[1].plot(q_solar, label='q_solar')\n",
    "ax[1].set_xticks(t_span[::6*24],t_span[::6*24]*10/60)\n",
    "ax[1].set_ylabel('Energy Rate [W]')\n",
    "ax[1].set_xlabel('Time [hour]')\n",
    "ax[1].legend()\n",
    "\n",
    "plt.show()"
   ]
  }
 ],
 "metadata": {
  "kernelspec": {
   "display_name": "Python 3 (ipykernel)",
   "language": "python",
   "name": "python3"
  },
  "language_info": {
   "codemirror_mode": {
    "name": "ipython",
    "version": 3
   },
   "file_extension": ".py",
   "mimetype": "text/x-python",
   "name": "python",
   "nbconvert_exporter": "python",
   "pygments_lexer": "ipython3",
   "version": "3.10.9"
  }
 },
 "nbformat": 4,
 "nbformat_minor": 5
}
